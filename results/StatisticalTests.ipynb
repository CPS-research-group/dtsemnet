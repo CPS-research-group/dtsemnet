{
 "cells": [
  {
   "cell_type": "code",
   "execution_count": 11,
   "metadata": {},
   "outputs": [],
   "source": [
    "import pandas as pd\n",
    "import numpy as np\n",
    "from scipy import stats\n",
    "import scikit_posthocs as sp # https://pypi.org/project/scikit-posthocs/\n",
    "import matplotlib.pyplot as plt\n",
    "import scipy"
   ]
  },
  {
   "cell_type": "markdown",
   "metadata": {},
   "source": [
    "# Read in our data for comparing"
   ]
  },
  {
   "cell_type": "code",
   "execution_count": 12,
   "metadata": {},
   "outputs": [
    {
     "name": "stdout",
     "output_type": "stream",
     "text": [
      "Read data\n",
      "Methods: 4 Datasets: 22\n"
     ]
    }
   ],
   "source": [
    "# Assumes a formattting where rows are datasets, and the methods are columns\n",
    "df = pd.read_csv(\"ranking.csv\", index_col=0)\n",
    "data = np.asarray(df)/100\n",
    "\n",
    "print(\"Read data\")\n",
    "\n",
    "# To be safe, ensure this matches what was expected\n",
    "num_datasets, num_methods = data.shape\n",
    "print(\"Methods:\", num_methods, \"Datasets:\", num_datasets)"
   ]
  },
  {
   "cell_type": "code",
   "execution_count": 13,
   "metadata": {},
   "outputs": [
    {
     "data": {
      "text/plain": [
       "array([[0.686 , 0.678 , 0.6841, 0.5753],\n",
       "       [0.8755, 0.8664, 0.8741, 0.8418],\n",
       "       [0.961 , 0.9586, 0.9501, 0.9423],\n",
       "       [0.9702, 0.9636, 0.9608, 0.8994],\n",
       "       [0.8203, 0.7952, 0.8121, 0.7403],\n",
       "       [0.9616, 0.94  , 0.9505, 0.8559],\n",
       "       [0.8429, 0.8367, 0.8252, 0.7831],\n",
       "       [0.8919, 0.8613, 0.8741, 0.7013],\n",
       "       [0.902 , 0.886 , 0.774 , 0.749 ],\n",
       "       [0.998 , 0.998 , 0.966 , 0.936 ],\n",
       "       [0.785 , 0.783 , 0.769 , 0.771 ],\n",
       "       [1.    , 1.    , 0.997 , 1.    ],\n",
       "       [1.    , 1.    , 0.99  , 0.99  ],\n",
       "       [0.933 , 0.921 , 0.845 , 0.843 ],\n",
       "       [0.972 , 0.972 , 0.947 , 0.947 ],\n",
       "       [0.622 , 0.597 , 0.558 , 0.54  ],\n",
       "       [0.586 , 0.566 , 0.569 , 0.559 ],\n",
       "       [0.535 , 0.521 , 0.523 , 0.52  ],\n",
       "       [0.914 , 0.89  , 0.832 , 0.805 ],\n",
       "       [0.929 , 0.924 , 0.906 , 0.918 ],\n",
       "       [0.821 , 0.808 , 0.709 , 0.706 ],\n",
       "       [0.933 , 0.919 , 0.646 , 0.532 ]])"
      ]
     },
     "execution_count": 13,
     "metadata": {},
     "output_type": "execute_result"
    }
   ],
   "source": [
    "data"
   ]
  },
  {
   "cell_type": "markdown",
   "metadata": {},
   "source": [
    "## Friedman testing \n",
    "Non parametric test to check if there is a difference in means between the groups (classifiers)"
   ]
  },
  {
   "cell_type": "code",
   "execution_count": 14,
   "metadata": {},
   "outputs": [
    {
     "name": "stdout",
     "output_type": "stream",
     "text": [
      "Should we reject H0 (i.e. is there a difference in the means) at the 95.0 % confidence level? True\n"
     ]
    }
   ],
   "source": [
    "alpha = 0.05 # Set this to the desired alpha/signifance level\n",
    "\n",
    "stat, p = stats.friedmanchisquare(*data)\n",
    "\n",
    "reject = p <= alpha\n",
    "print(\"Should we reject H0 (i.e. is there a difference in the means) at the\", (1-alpha)*100, \"% confidence level?\", reject)"
   ]
  },
  {
   "cell_type": "code",
   "execution_count": 17,
   "metadata": {},
   "outputs": [],
   "source": [
    "ranks = np.array([stats.rankdata(-row, method='average') for row in data])\n",
    "average_ranks = np.mean(ranks, axis=0)"
   ]
  },
  {
   "cell_type": "code",
   "execution_count": 18,
   "metadata": {},
   "outputs": [
    {
     "name": "stdout",
     "output_type": "stream",
     "text": [
      "[1.11363636 2.25       2.86363636 3.77272727]\n"
     ]
    }
   ],
   "source": [
    "print(average_ranks)"
   ]
  },
  {
   "cell_type": "markdown",
   "metadata": {},
   "source": [
    "### Post Hoc Analysis\n",
    "See [Statistical Comparisons of Classifiers over Multiple Data Sets](http://citeseerx.ist.psu.edu/viewdoc/download?doi=10.1.1.141.3142&rep=rep1&type=pdf) for more detail"
   ]
  },
  {
   "cell_type": "code",
   "execution_count": 129,
   "metadata": {},
   "outputs": [],
   "source": [
    "# At this point, we should only continue if H0 was rejected\n",
    "if not reject:\n",
    "    raise Exception(\"Exiting early. The rankings are only relevant if there was a difference in the means i.e. if we rejected h0 above\")"
   ]
  },
  {
   "cell_type": "code",
   "execution_count": 130,
   "metadata": {},
   "outputs": [],
   "source": [
    "# Helper functions for performing the statistical tests\n",
    "def generate_scores(method, method_args, data, labels):\n",
    "    pairwise_scores = method(data, **method_args) # Matrix for all pairwise comaprisons\n",
    "    pairwise_scores.set_axis(labels, axis='columns', inplace=True) # Label the cols\n",
    "    pairwise_scores.set_axis(labels, axis='rows', inplace=True) # Label the rows, note: same label as pairwise combinations\n",
    "    return pairwise_scores\n",
    "\n",
    "def plot(scores):\n",
    "    # Pretty plot of significance\n",
    "    heatmap_args = {'linewidths': 0.25, 'linecolor': '0.5', 'square': True,\n",
    "                    'cbar_ax_bbox': [0.80, 0.35, 0.04, 0.3]}\n",
    "\n",
    "    sp.sign_plot(scores, **heatmap_args)"
   ]
  },
  {
   "cell_type": "markdown",
   "metadata": {},
   "source": [
    "#### Nemenyi Test\n",
    "Note: This is relevant when you would like to compare various methods.\n",
    "For example if you propose several methods and want to compare them all against each\n",
    "other, or to do an exhaustive comparison against several method. Often this is not\n",
    "what we want, as we propose only one method (instead see Bonferoni below), and this would\n",
    "be overconservativew. "
   ]
  },
  {
   "cell_type": "code",
   "execution_count": 131,
   "metadata": {},
   "outputs": [
    {
     "name": "stderr",
     "output_type": "stream",
     "text": [
      "/tmp/ipykernel_327723/3969716403.py:4: FutureWarning: DataFrame.set_axis 'inplace' keyword is deprecated and will be removed in a future version. Use `obj = obj.set_axis(..., copy=False)` instead\n",
      "  pairwise_scores.set_axis(labels, axis='columns', inplace=True) # Label the cols\n",
      "/tmp/ipykernel_327723/3969716403.py:5: FutureWarning: DataFrame.set_axis 'inplace' keyword is deprecated and will be removed in a future version. Use `obj = obj.set_axis(..., copy=False)` instead\n",
      "  pairwise_scores.set_axis(labels, axis='rows', inplace=True) # Label the rows, note: same label as pairwise combinations\n"
     ]
    }
   ],
   "source": [
    "nemenyi_scores = generate_scores(sp.posthoc_nemenyi_friedman, {}, data, df.columns)"
   ]
  },
  {
   "cell_type": "code",
   "execution_count": 132,
   "metadata": {},
   "outputs": [
    {
     "data": {
      "text/html": [
       "<div>\n",
       "<style scoped>\n",
       "    .dataframe tbody tr th:only-of-type {\n",
       "        vertical-align: middle;\n",
       "    }\n",
       "\n",
       "    .dataframe tbody tr th {\n",
       "        vertical-align: top;\n",
       "    }\n",
       "\n",
       "    .dataframe thead th {\n",
       "        text-align: right;\n",
       "    }\n",
       "</style>\n",
       "<table border=\"1\" class=\"dataframe\">\n",
       "  <thead>\n",
       "    <tr style=\"text-align: right;\">\n",
       "      <th></th>\n",
       "      <th>DTSemNet</th>\n",
       "      <th>DGT</th>\n",
       "      <th>TAO</th>\n",
       "      <th>CART</th>\n",
       "    </tr>\n",
       "  </thead>\n",
       "  <tbody>\n",
       "    <tr>\n",
       "      <th>DTSemNet</th>\n",
       "      <td>1.000000</td>\n",
       "      <td>0.018422</td>\n",
       "      <td>0.001000</td>\n",
       "      <td>0.001000</td>\n",
       "    </tr>\n",
       "    <tr>\n",
       "      <th>DGT</th>\n",
       "      <td>0.018422</td>\n",
       "      <td>1.000000</td>\n",
       "      <td>0.393303</td>\n",
       "      <td>0.001000</td>\n",
       "    </tr>\n",
       "    <tr>\n",
       "      <th>TAO</th>\n",
       "      <td>0.001000</td>\n",
       "      <td>0.393303</td>\n",
       "      <td>1.000000</td>\n",
       "      <td>0.089986</td>\n",
       "    </tr>\n",
       "    <tr>\n",
       "      <th>CART</th>\n",
       "      <td>0.001000</td>\n",
       "      <td>0.001000</td>\n",
       "      <td>0.089986</td>\n",
       "      <td>1.000000</td>\n",
       "    </tr>\n",
       "  </tbody>\n",
       "</table>\n",
       "</div>"
      ],
      "text/plain": [
       "          DTSemNet       DGT       TAO      CART\n",
       "DTSemNet  1.000000  0.018422  0.001000  0.001000\n",
       "DGT       0.018422  1.000000  0.393303  0.001000\n",
       "TAO       0.001000  0.393303  1.000000  0.089986\n",
       "CART      0.001000  0.001000  0.089986  1.000000"
      ]
     },
     "execution_count": 132,
     "metadata": {},
     "output_type": "execute_result"
    }
   ],
   "source": [
    "# Shows the p values for each pair\n",
    "nemenyi_scores"
   ]
  },
  {
   "cell_type": "code",
   "execution_count": 133,
   "metadata": {},
   "outputs": [
    {
     "data": {
      "image/png": "[encoded data removed]",
      "text/plain": [
       "<Figure size 640x480 with 2 Axes>"
      ]
     },
     "metadata": {},
     "output_type": "display_data"
    }
   ],
   "source": [
    "plot(nemenyi_scores)"
   ]
  },
  {
   "cell_type": "markdown",
   "metadata": {},
   "source": [
    "#### Bonferoni-Holm Correction\n",
    "In some cases, we do not care about all pairwise comparisons as we only propose a single method.\n",
    "In this case we can prefer using the Bonferroni correction with a a control method, where the \n",
    "control is our proposed method.  This is confirmed in Statistical Comparisons of Classifiers over Multiple Data Sets with\n",
    "\n",
    "\"We thus should not make pairwise comparisons when we in fact only test whether a newly proposed method is better than the existing ones.\"\n",
    "\n",
    "This is done with the \"Holm\" method here\n",
    "\n",
    "\n",
    "**NOTE:** This relies on the method being called \"*Proposed Method*\" in the imported CSV file,\n",
    "for lack of a generic way to set the control group."
   ]
  },
  {
   "cell_type": "code",
   "execution_count": 134,
   "metadata": {},
   "outputs": [],
   "source": [
    "def friedman_test(*args):\n",
    "    \"\"\"\n",
    "        Performs a Friedman ranking test.\n",
    "        Tests the hypothesis that in a set of k dependent samples groups (where k >= 2) at least two of the groups represent populations with different median values.\n",
    "        \n",
    "        Parameters\n",
    "        ----------\n",
    "        sample1, sample2, ... : array_like\n",
    "            The sample measurements for each group.\n",
    "            \n",
    "        Returns\n",
    "        -------\n",
    "        F-value : float\n",
    "            The computed F-value of the test.\n",
    "        p-value : float\n",
    "            The associated p-value from the F-distribution.\n",
    "        rankings : array_like\n",
    "            The ranking for each group.\n",
    "        pivots : array_like\n",
    "            The pivotal quantities for each group.\n",
    "            \n",
    "        References\n",
    "        ----------\n",
    "        M. Friedman, The use of ranks to avoid the assumption of normality implicit in the analysis of variance, Journal of the American Statistical Association 32 (1937) 674–701.\n",
    "        D.J. Sheskin, Handbook of parametric and nonparametric statistical procedures. crc Press, 2003, Test 25: The Friedman Two-Way Analysis of Variance by Ranks\n",
    "    \"\"\"\n",
    "    k = len(args)\n",
    "    if k < 2: raise ValueError('Less than 2 levels')\n",
    "    n = len(args[0])\n",
    "    if len(set([len(v) for v in args])) != 1: raise ValueError('Unequal number of samples')\n",
    "\n",
    "    rankings = []\n",
    "    for i in range(n):\n",
    "        row = [col[i] for col in args]\n",
    "        row_sort = sorted(row)\n",
    "        rankings.append([row_sort.index(v) + 1 + (row_sort.count(v)-1)/2. for v in row])\n",
    "\n",
    "    rankings_avg = [np.mean([case[j] for case in rankings]) for j in range(k)]\n",
    "    rankings_cmp = [r/np.sqrt(k*(k+1)/(6.*n)) for r in rankings_avg]\n",
    "\n",
    "    chi2 = ((12*n)/float((k*(k+1))))*((np.sum(r**2 for r in rankings_avg))-((k*(k+1)**2)/float(4)))\n",
    "    iman_davenport = ((n-1)*chi2)/float((n*(k-1)-chi2))\n",
    "\n",
    "    p_value = 1 - stats.f.cdf(iman_davenport, k-1, (k-1)*(n-1))\n",
    "\n",
    "    return iman_davenport, p_value, rankings_avg, rankings_cmp\n",
    "\n",
    "\n",
    "def holm_test(ranks, control=None):\n",
    "    \"\"\"\n",
    "        Performs a Holm post-hoc test using the pivot quantities obtained by a ranking test.\n",
    "        Tests the hypothesis that the ranking of the control method is different to each of the other methods.\n",
    "        \n",
    "        Parameters\n",
    "        ----------\n",
    "        pivots : dictionary_like\n",
    "            A dictionary with format 'groupname':'pivotal quantity' \n",
    "        control : string optional\n",
    "            The name of the control method (one vs all), default None (all vs all) \n",
    "            \n",
    "        Returns\n",
    "        ----------\n",
    "        Comparions : array-like\n",
    "            Strings identifier of each comparison with format 'group_i vs group_j'\n",
    "        Z-values : array-like\n",
    "            The computed Z-value statistic for each comparison.\n",
    "        p-values : array-like\n",
    "            The associated p-value from the Z-distribution wich depends on the index of the comparison\n",
    "        Adjusted p-values : array-like\n",
    "            The associated adjusted p-values wich can be compared with a significance level\n",
    "            \n",
    "        References\n",
    "        ----------\n",
    "        O.J. S. Holm, A simple sequentially rejective multiple test procedure, Scandinavian Journal of Statistics 6 (1979) 65–70.\n",
    "    \"\"\"\n",
    "    k = len(ranks)\n",
    "    values = list(ranks.values())\n",
    "    keys = list(ranks.keys())\n",
    "    if not control :\n",
    "        control_i = values.index(min(values))\n",
    "    else:\n",
    "        print(keys)\n",
    "        control_i = keys.index(control)\n",
    "\n",
    "    comparisons = [keys[control_i] + \" vs \" + keys[i] for i in range(k) if i != control_i]\n",
    "    z_values = [abs(values[control_i] - values[i]) for i in range(k) if i != control_i]\n",
    "    p_values = [2*(1-stats.norm.cdf(abs(z))) for z in z_values]\n",
    "    # Sort values by p_value so that p_0 < p_1\n",
    "    p_values, z_values, comparisons = map(list, zip(*sorted(zip(p_values, z_values, comparisons), key=lambda t: t[0])))\n",
    "    adj_p_values = [min(max((k-(j+1))*p_values[j] for j in range(i+1)), 1) for i in range(k-1)]\n",
    "    \n",
    "    return comparisons, z_values, p_values, adj_p_values"
   ]
  },
  {
   "cell_type": "code",
   "execution_count": 135,
   "metadata": {},
   "outputs": [
    {
     "name": "stdout",
     "output_type": "stream",
     "text": [
      "{'DTSemNet': 9.984248958871532, 'DGT': 7.064877918265821, 'TAO': 5.488417556338737, 'CART': 3.152920723854168}\n",
      "['DTSemNet', 'DGT', 'TAO', 'CART']\n"
     ]
    },
    {
     "name": "stderr",
     "output_type": "stream",
     "text": [
      "/tmp/ipykernel_327723/3021508168.py:41: DeprecationWarning: Calling np.sum(generator) is deprecated, and in the future will give a different result. Use np.sum(np.fromiter(generator)) or the python sum builtin instead.\n",
      "  chi2 = ((12*n)/float((k*(k+1))))*((np.sum(r**2 for r in rankings_avg))-((k*(k+1)**2)/float(4)))\n"
     ]
    }
   ],
   "source": [
    "# This library requires the data in different format to above, so was tranposed\n",
    "statistic, p_value, ranking, rank_cmp  = friedman_test(*np.transpose(data))\n",
    "ranks = {key: rank_cmp[i] for i, key in enumerate(list(df.columns))} \n",
    "print(ranks)\n",
    "\n",
    "comparisons, z_values, p_values, adj_p_values = holm_test(ranks, control=\"DTSemNet\")\n",
    "adj_p_values = np.asarray(adj_p_values)"
   ]
  },
  {
   "cell_type": "code",
   "execution_count": 136,
   "metadata": {},
   "outputs": [
    {
     "name": "stdout",
     "output_type": "stream",
     "text": [
      "DTSemNet: 9.98\n",
      "DGT: 7.06\n",
      "TAO: 5.49\n",
      "CART: 3.15\n"
     ]
    }
   ],
   "source": [
    "# Rankings\n",
    "for method, rank in ranks.items():\n",
    "    print(method +\":\", \"%.2f\" % rank)"
   ]
  },
  {
   "cell_type": "code",
   "execution_count": 137,
   "metadata": {},
   "outputs": [],
   "source": [
    "holm_scores = pd.DataFrame({\"p\": adj_p_values, \"sig\": adj_p_values < alpha}, index=comparisons)"
   ]
  },
  {
   "cell_type": "code",
   "execution_count": 138,
   "metadata": {},
   "outputs": [
    {
     "data": {
      "text/html": [
       "<div>\n",
       "<style scoped>\n",
       "    .dataframe tbody tr th:only-of-type {\n",
       "        vertical-align: middle;\n",
       "    }\n",
       "\n",
       "    .dataframe tbody tr th {\n",
       "        vertical-align: top;\n",
       "    }\n",
       "\n",
       "    .dataframe thead th {\n",
       "        text-align: right;\n",
       "    }\n",
       "</style>\n",
       "<table border=\"1\" class=\"dataframe\">\n",
       "  <thead>\n",
       "    <tr style=\"text-align: right;\">\n",
       "      <th></th>\n",
       "      <th>p</th>\n",
       "      <th>sig</th>\n",
       "    </tr>\n",
       "  </thead>\n",
       "  <tbody>\n",
       "    <tr>\n",
       "      <th>DTSemNet vs CART</th>\n",
       "      <td>2.523981e-11</td>\n",
       "      <td>True</td>\n",
       "    </tr>\n",
       "    <tr>\n",
       "      <th>DTSemNet vs TAO</th>\n",
       "      <td>1.385973e-05</td>\n",
       "      <td>True</td>\n",
       "    </tr>\n",
       "    <tr>\n",
       "      <th>DTSemNet vs DGT</th>\n",
       "      <td>3.507385e-03</td>\n",
       "      <td>True</td>\n",
       "    </tr>\n",
       "  </tbody>\n",
       "</table>\n",
       "</div>"
      ],
      "text/plain": [
       "                             p   sig\n",
       "DTSemNet vs CART  2.523981e-11  True\n",
       "DTSemNet vs TAO   1.385973e-05  True\n",
       "DTSemNet vs DGT   3.507385e-03  True"
      ]
     },
     "execution_count": 138,
     "metadata": {},
     "output_type": "execute_result"
    }
   ],
   "source": [
    "holm_scores"
   ]
  },
  {
   "cell_type": "markdown",
   "metadata": {},
   "source": [
    "# Regression"
   ]
  },
  {
   "cell_type": "code",
   "execution_count": 1,
   "metadata": {},
   "outputs": [
    {
     "name": "stdout",
     "output_type": "stream",
     "text": [
      "          Dataset1  Dataset2  Dataset3  Dataset4  Dataset5\n",
      "DTSemNet     2.135     2.645      1.66      1.45      8.99\n",
      "DGT-L        2.144     2.645      1.67      1.78      9.02\n",
      "DGT          2.150     2.910      1.72      2.30      9.05\n",
      "TAO-L        2.070     2.580      1.74      1.16      9.08\n",
      "CART         2.290     3.350      2.01      5.78      9.69\n"
     ]
    }
   ],
   "source": [
    "import numpy as np\n",
    "import pandas as pd\n",
    "\n",
    "# Sample data: RMSE values for 3 models across 5 datasets\n",
    "data = {\n",
    "    'Dataset1': [2.135, 2.144, 2.15, 2.07, 2.29],\n",
    "    'Dataset2': [2.645, 2.645, 2.91, 2.58, 3.35],\n",
    "    'Dataset3': [1.66, 1.67, 1.72, 1.74, 2.01],\n",
    "    'Dataset4': [1.45, 1.78, 2.30, 1.16, 5.78],\n",
    "    'Dataset5': [8.99, 9.02, 9.05, 9.08, 9.69]\n",
    "}\n",
    "\n",
    "# Convert to DataFrame\n",
    "df = pd.DataFrame(data, index=['DTSemNet', 'DGT-L', 'DGT', 'TAO-L', 'CART'])\n",
    "print(df)\n"
   ]
  },
  {
   "cell_type": "code",
   "execution_count": 3,
   "metadata": {},
   "outputs": [
    {
     "name": "stdout",
     "output_type": "stream",
     "text": [
      "Friedman test statistic=14.020, p-value=0.007\n",
      "Significant differences found (reject H0)\n"
     ]
    }
   ],
   "source": [
    "from scipy.stats import friedmanchisquare\n",
    "\n",
    "# Transpose the DataFrame to have models as columns\n",
    "df_transposed = df.T\n",
    "\n",
    "# Perform the Friedman test\n",
    "stat, p = friedmanchisquare(df_transposed['DTSemNet'], df_transposed['DGT-L'], df_transposed['DGT'], df_transposed['TAO-L'], df_transposed['CART'])\n",
    "print('Friedman test statistic=%.3f, p-value=%.3f' % (stat, p))\n",
    "\n",
    "# Interpret the result\n",
    "alpha = 0.05\n",
    "if p < alpha:\n",
    "    print('Significant differences found (reject H0)')\n",
    "else:\n",
    "    print('No significant differences found (fail to reject H0)')\n"
   ]
  },
  {
   "cell_type": "code",
   "execution_count": 6,
   "metadata": {},
   "outputs": [
    {
     "name": "stdout",
     "output_type": "stream",
     "text": [
      "          Dataset1  Dataset2  Dataset3  Dataset4  Dataset5\n",
      "DTSemNet       2.0       2.5       1.0       2.0       1.0\n",
      "DGT-L          3.0       2.5       2.0       3.0       2.0\n",
      "DGT            4.0       4.0       3.0       4.0       3.0\n",
      "TAO-L          1.0       1.0       4.0       1.0       4.0\n",
      "CART           5.0       5.0       5.0       5.0       5.0\n",
      "Average ranks of the models:\n",
      " DTSemNet    1.7\n",
      "DGT-L       2.5\n",
      "DGT         3.6\n",
      "TAO-L       2.2\n",
      "CART        5.0\n",
      "dtype: float64\n",
      "          DTSemNet     DGT-L       DGT     TAO-L      CART\n",
      "DTSemNet  1.000000  0.900000  0.317206  0.900000  0.008581\n",
      "DGT-L     0.900000  1.000000  0.781071  0.900000  0.090417\n",
      "DGT       0.317206  0.781071  1.000000  0.610810  0.610810\n",
      "TAO-L     0.900000  0.900000  0.610810  1.000000  0.040902\n",
      "CART      0.008581  0.090417  0.610810  0.040902  1.000000\n"
     ]
    }
   ],
   "source": [
    "import scikit_posthocs as sp\n",
    "\n",
    "# Calculate the ranks\n",
    "ranks = df.rank(axis=0, method='average')\n",
    "print(ranks)\n",
    "average_ranks = ranks.mean(axis=1)\n",
    "print(\"Average ranks of the models:\\n\", average_ranks)\n",
    "\n",
    "# Perform the Nemenyi post-hoc test\n",
    "nemenyi_results = sp.posthoc_nemenyi_friedman(ranks.T)\n",
    "print(nemenyi_results)\n"
   ]
  },
  {
   "cell_type": "markdown",
   "metadata": {},
   "source": [
    "## RL"
   ]
  },
  {
   "cell_type": "code",
   "execution_count": 32,
   "metadata": {},
   "outputs": [
    {
     "name": "stdout",
     "output_type": "stream",
     "text": [
      "Read data\n",
      "Methods: 5 Datasets: 4\n"
     ]
    }
   ],
   "source": [
    "# Assumes a formattting where rows are datasets, and the methods are columns\n",
    "df = pd.read_csv(\"ranking_rl.csv\", index_col=0)\n",
    "data = np.asarray(df)/100\n",
    "\n",
    "print(\"Read data\")\n",
    "\n",
    "# To be safe, ensure this matches what was expected\n",
    "num_datasets, num_methods = data.shape\n",
    "print(\"Methods:\", num_methods, \"Datasets:\", num_datasets)"
   ]
  },
  {
   "cell_type": "code",
   "execution_count": 33,
   "metadata": {},
   "outputs": [
    {
     "name": "stdout",
     "output_type": "stream",
     "text": [
      "Should we reject H0 (i.e. is there a difference in the means) at the 95.0 % confidence level? True\n"
     ]
    }
   ],
   "source": [
    "alpha = 0.05 # Set this to the desired alpha/signifance level\n",
    "\n",
    "stat, p = stats.friedmanchisquare(*data)\n",
    "\n",
    "reject = p <= alpha\n",
    "print(\"Should we reject H0 (i.e. is there a difference in the means) at the\", (1-alpha)*100, \"% confidence level?\", reject)"
   ]
  },
  {
   "cell_type": "code",
   "execution_count": 34,
   "metadata": {},
   "outputs": [],
   "source": [
    "ranks = np.array([stats.rankdata(-row, method='average') for row in data])\n",
    "average_ranks = np.mean(ranks, axis=0)"
   ]
  },
  {
   "cell_type": "code",
   "execution_count": 35,
   "metadata": {},
   "outputs": [
    {
     "name": "stdout",
     "output_type": "stream",
     "text": [
      "[1.25 2.75 3.   4.75 3.25]\n"
     ]
    }
   ],
   "source": [
    "print(average_ranks)"
   ]
  },
  {
   "cell_type": "code",
   "execution_count": 36,
   "metadata": {},
   "outputs": [],
   "source": [
    "# At this point, we should only continue if H0 was rejected\n",
    "if not reject:\n",
    "    raise Exception(\"Exiting early. The rankings are only relevant if there was a difference in the means i.e. if we rejected h0 above\")\n"
   ]
  },
  {
   "cell_type": "code",
   "execution_count": 37,
   "metadata": {},
   "outputs": [
    {
     "name": "stderr",
     "output_type": "stream",
     "text": [
      "/tmp/ipykernel_363819/3699947389.py:4: FutureWarning: DataFrame.set_axis 'inplace' keyword is deprecated and will be removed in a future version. Use `obj = obj.set_axis(..., copy=False)` instead\n",
      "  pairwise_scores.set_axis(labels, axis='columns', inplace=True) # Label the cols\n",
      "/tmp/ipykernel_363819/3699947389.py:5: FutureWarning: DataFrame.set_axis 'inplace' keyword is deprecated and will be removed in a future version. Use `obj = obj.set_axis(..., copy=False)` instead\n",
      "  pairwise_scores.set_axis(labels, axis='rows', inplace=True) # Label the rows, note: same label as pairwise combinations\n"
     ]
    },
    {
     "data": {
      "image/png": "[encoded data removed]",
      "text/plain": [
       "<Figure size 640x480 with 2 Axes>"
      ]
     },
     "metadata": {},
     "output_type": "display_data"
    }
   ],
   "source": [
    "\n",
    "# Helper functions for performing the statistical tests\n",
    "def generate_scores(method, method_args, data, labels):\n",
    "    pairwise_scores = method(data, **method_args) # Matrix for all pairwise comaprisons\n",
    "    pairwise_scores.set_axis(labels, axis='columns', inplace=True) # Label the cols\n",
    "    pairwise_scores.set_axis(labels, axis='rows', inplace=True) # Label the rows, note: same label as pairwise combinations\n",
    "    return pairwise_scores\n",
    "\n",
    "def plot(scores):\n",
    "    # Pretty plot of significance\n",
    "    heatmap_args = {'linewidths': 0.25, 'linecolor': '0.5', 'square': True,\n",
    "                    'cbar_ax_bbox': [0.80, 0.35, 0.04, 0.3]}\n",
    "\n",
    "    sp.sign_plot(scores, **heatmap_args)\n",
    "\n",
    "nemenyi_scores = generate_scores(sp.posthoc_nemenyi_friedman, {}, data, df.columns)\n",
    "\n",
    "# Shows the p values for each pair\n",
    "nemenyi_scores\n",
    "\n",
    "plot(nemenyi_scores)"
   ]
  },
  {
   "cell_type": "code",
   "execution_count": 38,
   "metadata": {},
   "outputs": [
    {
     "data": {
      "text/html": [
       "<div>\n",
       "<style scoped>\n",
       "    .dataframe tbody tr th:only-of-type {\n",
       "        vertical-align: middle;\n",
       "    }\n",
       "\n",
       "    .dataframe tbody tr th {\n",
       "        vertical-align: top;\n",
       "    }\n",
       "\n",
       "    .dataframe thead th {\n",
       "        text-align: right;\n",
       "    }\n",
       "</style>\n",
       "<table border=\"1\" class=\"dataframe\">\n",
       "  <thead>\n",
       "    <tr style=\"text-align: right;\">\n",
       "      <th></th>\n",
       "      <th>DTSemNet</th>\n",
       "      <th>DRL</th>\n",
       "      <th>DGT</th>\n",
       "      <th>ICCT</th>\n",
       "      <th>VIPER</th>\n",
       "    </tr>\n",
       "  </thead>\n",
       "  <tbody>\n",
       "    <tr>\n",
       "      <th>DTSemNet</th>\n",
       "      <td>1.000000</td>\n",
       "      <td>0.643932</td>\n",
       "      <td>0.517029</td>\n",
       "      <td>0.015044</td>\n",
       "      <td>0.381128</td>\n",
       "    </tr>\n",
       "    <tr>\n",
       "      <th>DRL</th>\n",
       "      <td>0.643932</td>\n",
       "      <td>1.000000</td>\n",
       "      <td>0.900000</td>\n",
       "      <td>0.381128</td>\n",
       "      <td>0.900000</td>\n",
       "    </tr>\n",
       "    <tr>\n",
       "      <th>DGT</th>\n",
       "      <td>0.517029</td>\n",
       "      <td>0.900000</td>\n",
       "      <td>1.000000</td>\n",
       "      <td>0.517029</td>\n",
       "      <td>0.900000</td>\n",
       "    </tr>\n",
       "    <tr>\n",
       "      <th>ICCT</th>\n",
       "      <td>0.015044</td>\n",
       "      <td>0.381128</td>\n",
       "      <td>0.517029</td>\n",
       "      <td>1.000000</td>\n",
       "      <td>0.643932</td>\n",
       "    </tr>\n",
       "    <tr>\n",
       "      <th>VIPER</th>\n",
       "      <td>0.381128</td>\n",
       "      <td>0.900000</td>\n",
       "      <td>0.900000</td>\n",
       "      <td>0.643932</td>\n",
       "      <td>1.000000</td>\n",
       "    </tr>\n",
       "  </tbody>\n",
       "</table>\n",
       "</div>"
      ],
      "text/plain": [
       "          DTSemNet       DRL       DGT      ICCT     VIPER\n",
       "DTSemNet  1.000000  0.643932  0.517029  0.015044  0.381128\n",
       "DRL       0.643932  1.000000  0.900000  0.381128  0.900000\n",
       "DGT       0.517029  0.900000  1.000000  0.517029  0.900000\n",
       "ICCT      0.015044  0.381128  0.517029  1.000000  0.643932\n",
       "VIPER     0.381128  0.900000  0.900000  0.643932  1.000000"
      ]
     },
     "execution_count": 38,
     "metadata": {},
     "output_type": "execute_result"
    }
   ],
   "source": [
    "nemenyi_scores\n"
   ]
  },
  {
   "cell_type": "code",
   "execution_count": null,
   "metadata": {},
   "outputs": [],
   "source": []
  }
 ],
 "metadata": {
  "kernelspec": {
   "display_name": "Python 3",
   "language": "python",
   "name": "python3"
  },
  "language_info": {
   "codemirror_mode": {
    "name": "ipython",
    "version": 3
   },
   "file_extension": ".py",
   "mimetype": "text/x-python",
   "name": "python",
   "nbconvert_exporter": "python",
   "pygments_lexer": "ipython3",
   "version": "3.9.18"
  }
 },
 "nbformat": 4,
 "nbformat_minor": 2
}
