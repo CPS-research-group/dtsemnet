{
 "cells": [
  {
   "cell_type": "code",
   "execution_count": 1,
   "metadata": {},
   "outputs": [
    {
     "name": "stderr",
     "output_type": "stream",
     "text": [
      "/home/subratpr001/anaconda3/envs/dtregnet/lib/python3.8/site-packages/gym/envs/registration.py:216: UserWarning: \u001b[33mWARN: Overriding environment highway-v0\u001b[0m\n",
      "  logger.warn(\"Overriding environment {}\".format(id))\n",
      "/home/subratpr001/anaconda3/envs/dtregnet/lib/python3.8/site-packages/gym/envs/registration.py:216: UserWarning: \u001b[33mWARN: Overriding environment racetrack-v0\u001b[0m\n",
      "  logger.warn(\"Overriding environment {}\".format(id))\n",
      "/home/subratpr001/anaconda3/envs/dtregnet/lib/python3.8/site-packages/gym/envs/registration.py:216: UserWarning: \u001b[33mWARN: Overriding environment intersection-v0\u001b[0m\n",
      "  logger.warn(\"Overriding environment {}\".format(id))\n"
     ]
    }
   ],
   "source": [
    "# Created by Yaru Niu\n",
    "\n",
    "import gym\n",
    "import numpy as np\n",
    "import copy\n",
    "import argparse\n",
    "import random\n",
    "import os\n",
    "import torch\n",
    "from icct.rl_helpers import ddt_sac_policy\n",
    "from icct.core.icct_helpers import convert_to_crisp\n",
    "from icct.rl_helpers.eval_callback import EpCheckPointCallback\n",
    "from stable_baselines3.common.torch_layers import (\n",
    "    BaseFeaturesExtractor,\n",
    "    CombinedExtractor,\n",
    "    FlattenExtractor\n",
    ")\n",
    "\n",
    "from stable_baselines3 import SAC\n",
    "import highway_env\n",
    "from stable_baselines3.common.utils import set_random_seed\n",
    "from stable_baselines3.common.evaluation import evaluate_policy\n",
    "\n",
    "# os.environ[\"CUBLAS_WORKSPACE_CONFIG\"] = \":4096:8\"\n",
    "import env\n",
    "\n",
    "# ignore gym/stablebaseline warnings\n",
    "import warnings\n",
    "warnings.filterwarnings('ignore', category=UserWarning)\n",
    "\n",
    "\n",
    "def make_env(env_name, seed):\n",
    "    set_random_seed(seed)\n",
    "    if env_name == 'lunar':\n",
    "        env = gym.make('LunarLanderContinuous-v2')\n",
    "        name = 'LunarLanderContinuous-v2'\n",
    "        env.seed(seed)\n",
    "    elif env_name == 'walker':\n",
    "        env = gym.make(\"BipedalWalker-v3\")\n",
    "        name = 'BipedalWalker-v3'\n",
    "        env.seed(seed)\n",
    "    elif env_name == 'cart':\n",
    "        env = gym.make('InvertedPendulum-v2')\n",
    "        name = 'InvertedPendulum-v2'\n",
    "        env.seed(seed)\n",
    "    elif env_name == 'lane_keeping':\n",
    "        env = gym.make('lane-keeping-v0')\n",
    "        name = 'lane-keeping-v0'\n",
    "        env.seed(seed)\n",
    "    elif env_name == 'ring_accel':\n",
    "        create_env, gym_name = make_create_env(params=ring_accel_params, version=0)\n",
    "        env = create_env()  \n",
    "        name = gym_name\n",
    "        env.seed(seed)\n",
    "    # elif env_name == 'ring_lane_changing':\n",
    "    #     create_env, gym_name = make_create_env(params=ring_accel_lc_params, version=0)\n",
    "    #     env = create_env()  \n",
    "    #     name = gym_name    \n",
    "    # elif env_name == 'figure8':\n",
    "    #     create_env, gym_name = make_create_env(params=fig8_params, version=0)\n",
    "    #     env = create_env()  \n",
    "    #     name = gym_name \n",
    "    elif env_name == 'highway':\n",
    "        env = gym.make('highway-v0')\n",
    "        name = 'highway-v0'\n",
    "        env.seed(seed)\n",
    "    \n",
    "    elif env_name == 'intersection':\n",
    "        env = gym.make('intersection-v0')\n",
    "        name = 'intersection-v0'\n",
    "        env.seed(seed)\n",
    "    \n",
    "    elif env_name == 'racetrack':\n",
    "        env = gym.make('racetrack-v0')\n",
    "        name = 'racetrack-v0'\n",
    "        env.seed(seed)\n",
    "        \n",
    "    else:\n",
    "        raise Exception('No valid environment selected')\n",
    "    \n",
    "    \n",
    "    return env, name\n",
    "torch.use_deterministic_algorithms(True)"
   ]
  },
  {
   "cell_type": "code",
   "execution_count": 2,
   "metadata": {},
   "outputs": [
    {
     "name": "stdout",
     "output_type": "stream",
     "text": [
      "DTSemNetReg(\n",
      "  (linear1): Linear(in_features=24, out_features=511, bias=True)\n",
      "  (reluP): ReLU()\n",
      "  (reluM): ReLU()\n",
      "  (linear2): Linear(in_features=1022, out_features=512, bias=False)\n",
      "  (mpool): MaxPoolLayer()\n",
      "  (softmax): Softmax(dim=-1)\n",
      "  (regression_layer_action1): Sequential(\n",
      "    (0): Linear(in_features=24, out_features=512, bias=True)\n",
      "  )\n",
      "  (regression_layer_action2): Sequential(\n",
      "    (0): Linear(in_features=24, out_features=512, bias=True)\n",
      "  )\n",
      "  (regression_layer_action3): Sequential(\n",
      "    (0): Linear(in_features=24, out_features=512, bias=True)\n",
      "  )\n",
      "  (regression_layer_action4): Sequential(\n",
      "    (0): Linear(in_features=24, out_features=512, bias=True)\n",
      "  )\n",
      ")\n"
     ]
    }
   ],
   "source": [
    "\n",
    "# load model\n",
    "model_drnet = SAC.load(f'{\"../trained_models/walker_cpu/drnet/512leaves_04-19-01-Dec/\"}best_model_seed{\"11\"}.zip', device='cpu')\n",
    "model_nn = SAC.load(f'{\"../trained_models/walker_cpu/mlp/512leaves_56-18-01-Dec/\"}best_model_seed{\"11\"}.zip', device='cpu')"
   ]
  },
  {
   "cell_type": "code",
   "execution_count": 3,
   "metadata": {},
   "outputs": [
    {
     "data": {
      "text/plain": [
       "Actor(\n",
       "  (features_extractor): FlattenExtractor(\n",
       "    (flatten): Flatten(start_dim=1, end_dim=-1)\n",
       "  )\n",
       "  (latent_pi): Sequential(\n",
       "    (0): Linear(in_features=24, out_features=512, bias=True)\n",
       "    (1): ReLU()\n",
       "    (2): Linear(in_features=512, out_features=512, bias=True)\n",
       "    (3): ReLU()\n",
       "  )\n",
       "  (mu): Sequential(\n",
       "    (0): Linear(in_features=512, out_features=4, bias=True)\n",
       "    (1): Hardtanh(min_val=-2.0, max_val=2.0)\n",
       "  )\n",
       ")"
      ]
     },
     "execution_count": 3,
     "metadata": {},
     "output_type": "execute_result"
    }
   ],
   "source": [
    "model_nn.policy.actor"
   ]
  },
  {
   "cell_type": "code",
   "execution_count": 4,
   "metadata": {},
   "outputs": [],
   "source": [
    "# # # #===== Torchstat =====#\n",
    "# # stat(model, dummy_input)\n",
    "# from torchstat import stat\n",
    "# from torchinfo import summary\n",
    "\n",
    "\n",
    "# # Define the input size as (batch_size, channels, height, width)\n",
    "# input_size = (1, 24)  \n",
    "\n",
    "# # Print model summary\n",
    "# summary(model_nn.policy.actor, input_size=input_size)"
   ]
  },
  {
   "cell_type": "code",
   "execution_count": 7,
   "metadata": {},
   "outputs": [
    {
     "name": "stdout",
     "output_type": "stream",
     "text": [
      "Number of tunable parameters: 589483\n"
     ]
    }
   ],
   "source": [
    "num_params = sum(p.numel() for p in model_drnet.policy.actor.parameters())\n",
    "print(\"Number of tunable parameters:\", num_params)\n"
   ]
  },
  {
   "cell_type": "code",
   "execution_count": 11,
   "metadata": {},
   "outputs": [],
   "source": [
    "# ========== Seed for Test Envs [500, 501 .... 599] ==========\n",
    "model_drnet.set_random_seed(500)\n",
    "model_nn.set_random_seed(500)\n",
    "env, env_n = make_env('walker', seed=500)"
   ]
  },
  {
   "cell_type": "code",
   "execution_count": 14,
   "metadata": {},
   "outputs": [
    {
     "name": "stdout",
     "output_type": "stream",
     "text": [
      "Inference time: 0.002820730209350586\n"
     ]
    }
   ],
   "source": [
    "import time\n",
    "\n",
    "# Set the batch size\n",
    "batch_size = 1\n",
    "\n",
    "# Create an empty list to store the samples\n",
    "samples = []\n",
    "\n",
    "# Record the inference time\n",
    "start_time = time.time()\n",
    "\n",
    "# Take random samples from the environment\n",
    "for _ in range(batch_size):\n",
    "    sample = env.observation_space.sample()\n",
    "    samples.append(sample)\n",
    "\n",
    "# Pass the samples through the policy network\n",
    "for sample in samples:\n",
    "    model_nn.predict(sample)\n",
    "\n",
    "# Calculate the inference time\n",
    "inference_time = time.time() - start_time\n",
    "\n",
    "print(\"Inference time:\", inference_time)\n"
   ]
  },
  {
   "cell_type": "markdown",
   "metadata": {},
   "source": [
    "DTRegNetInference time: 0.04\n",
    "\n",
    "NN Inference time: 0.003"
   ]
  },
  {
   "cell_type": "code",
   "execution_count": null,
   "metadata": {},
   "outputs": [],
   "source": []
  },
  {
   "cell_type": "code",
   "execution_count": null,
   "metadata": {},
   "outputs": [],
   "source": [
    "\n",
    "\n",
    "reward, _ = evaluate_policy(model,\n",
    "                            env,\n",
    "                            n_eval_episodes=1,\n",
    "                            deterministic=True)"
   ]
  }
 ],
 "metadata": {
  "kernelspec": {
   "display_name": "dtregnet",
   "language": "python",
   "name": "python3"
  },
  "language_info": {
   "codemirror_mode": {
    "name": "ipython",
    "version": 3
   },
   "file_extension": ".py",
   "mimetype": "text/x-python",
   "name": "python",
   "nbconvert_exporter": "python",
   "pygments_lexer": "ipython3",
   "version": "3.8.10"
  }
 },
 "nbformat": 4,
 "nbformat_minor": 2
}
